{
  "nbformat": 4,
  "nbformat_minor": 0,
  "metadata": {
    "colab": {
      "name": "Plant_Disease_Identifier.ipynb",
      "provenance": [],
      "collapsed_sections": []
    },
    "kernelspec": {
      "name": "python3",
      "display_name": "Python 3"
    },
    "language_info": {
      "name": "python"
    }
  },
  "cells": [
    {
      "cell_type": "code",
      "metadata": {
        "colab": {
          "base_uri": "https://localhost:8080/"
        },
        "id": "dStzBwM0I5hq",
        "outputId": "058d2ffc-9b36-4361-f94d-537e61190dbc"
      },
      "source": [
        "!wget https://github.com/nandakishormpai2001/Plant_Disease_Detector/raw/data/dataset.zip"
      ],
      "execution_count": 156,
      "outputs": [
        {
          "output_type": "stream",
          "text": [
            "--2021-05-28 18:02:11--  https://github.com/nandakishormpai2001/Plant_Disease_Detector/raw/data/dataset.zip\n",
            "Resolving github.com (github.com)... 140.82.121.3\n",
            "Connecting to github.com (github.com)|140.82.121.3|:443... connected.\n",
            "HTTP request sent, awaiting response... 302 Found\n",
            "Location: https://raw.githubusercontent.com/nandakishormpai2001/Plant_Disease_Detector/data/dataset.zip [following]\n",
            "--2021-05-28 18:02:11--  https://raw.githubusercontent.com/nandakishormpai2001/Plant_Disease_Detector/data/dataset.zip\n",
            "Resolving raw.githubusercontent.com (raw.githubusercontent.com)... 185.199.108.133, 185.199.109.133, 185.199.110.133, ...\n",
            "Connecting to raw.githubusercontent.com (raw.githubusercontent.com)|185.199.108.133|:443... connected.\n",
            "HTTP request sent, awaiting response... 200 OK\n",
            "Length: 17710854 (17M) [application/zip]\n",
            "Saving to: ‘dataset.zip’\n",
            "\n",
            "dataset.zip         100%[===================>]  16.89M  67.4MB/s    in 0.3s    \n",
            "\n",
            "2021-05-28 18:02:12 (67.4 MB/s) - ‘dataset.zip’ saved [17710854/17710854]\n",
            "\n"
          ],
          "name": "stdout"
        }
      ]
    },
    {
      "cell_type": "code",
      "metadata": {
        "id": "w_-vVsdFTRtu",
        "colab": {
          "base_uri": "https://localhost:8080/"
        },
        "outputId": "93fe4b85-a994-4e97-b012-064171399155"
      },
      "source": [
        "!unzip dataset.zip"
      ],
      "execution_count": 157,
      "outputs": [
        {
          "output_type": "stream",
          "text": [
            "Archive:  dataset.zip\n",
            "replace minidataset/train/Cherry___Powdery_mildew/00b7df55-c789-43d6-a02e-a579ac9d07e6___FREC_Pwd.M 4748.JPG? [y]es, [n]o, [A]ll, [N]one, [r]ename: N\n"
          ],
          "name": "stdout"
        }
      ]
    },
    {
      "cell_type": "code",
      "metadata": {
        "id": "HJi72ExwQwt7"
      },
      "source": [
        "!pip install -r requirements.txt"
      ],
      "execution_count": null,
      "outputs": []
    },
    {
      "cell_type": "code",
      "metadata": {
        "id": "STy4Cqp3SS11"
      },
      "source": [
        "from PIL import Image\n",
        "import torch\n",
        "import torchvision\n",
        "from torchvision.transforms import ToTensor\n",
        "import torchvision.transforms as transforms\n",
        "import numpy as np\n",
        "import matplotlib.pyplot as plt\n",
        "\n",
        "import torch.nn as nn\n",
        "import torch.optim as optim\n",
        "import torch.nn.functional as F\n",
        "import os\n",
        "import pickle"
      ],
      "execution_count": 23,
      "outputs": []
    },
    {
      "cell_type": "code",
      "metadata": {
        "id": "Wx-fwpX-Stpz"
      },
      "source": [
        "class Dataset():\n",
        "    def __init__(self):\n",
        "        self.labels,self.images = self.load_data()\n",
        "\n",
        "\n",
        "    def load_data(self):\n",
        "        labels={}\n",
        "        images = {}\n",
        "        count = 0\n",
        "        resize = transforms.Compose([transforms.Resize((256,256))])\n",
        "        main_dir = os.listdir(os.path.join(\"minidataset\",\"train\"))\n",
        "        reference = {}\n",
        "        for i,dir in enumerate(main_dir):\n",
        "            reference[dir]=i\n",
        "            images_list = os.listdir(os.path.join(\"minidataset\",\"train\",dir))\n",
        "            for img in images_list:\n",
        "                labels[count] = i\n",
        "                img_path = os.path.join(\"minidataset\",\"train\",dir,img)\n",
        "                image = Image.open(img_path)\n",
        "                image = ToTensor()(image)\n",
        "                images[count] = resize(image)\n",
        "                count+=1\n",
        "\n",
        "        print(reference)\n",
        "        return labels,images\n",
        "      \n",
        "    def __len__(self):\n",
        "        return len(self.labels)\n",
        "    \n",
        "\n",
        "    # To support the indexing such that dataset[i] can be used to get ith sample.\n",
        "    def __getitem__(self, idx):\n",
        "        return (\n",
        "            self.images[idx],\n",
        "            self.labels[idx],\n",
        "        )"
      ],
      "execution_count": 135,
      "outputs": []
    },
    {
      "cell_type": "code",
      "metadata": {
        "id": "ZA5x0xiGQGDC"
      },
      "source": [
        "class Network(nn.Module):\n",
        "    def __init__(self):\n",
        "        super(Network,self).__init__()\n",
        "        self.conv1= nn.Conv2d(in_channels=3,out_channels=6,kernel_size=5)\n",
        "        self.conv2= nn.Conv2d(in_channels=6,out_channels=12,kernel_size=5)\n",
        "        \n",
        "        \n",
        "        self.fc1 = nn.Linear(in_features=12*61*61,out_features=120)\n",
        "        self.fc2 = nn.Linear(in_features=120,out_features=60)\n",
        "        self.out = nn.Linear(in_features=60,out_features=17)\n",
        "        \n",
        "        \n",
        "    def forward(self,t):\n",
        "        t = t\n",
        "        \n",
        "        t=self.conv1(t)\n",
        "        t=F.relu(t)\n",
        "        t=F.max_pool2d(t,kernel_size = 2, stride = 2)\n",
        "        \n",
        "        \n",
        "        t=self.conv2(t)\n",
        "        t=F.relu(t)\n",
        "        t=F.max_pool2d(t,kernel_size = 2, stride = 2)\n",
        "        \n",
        "        #print(\"Here\",t.size())\n",
        "        t=t.reshape(-1,12*61*61)\n",
        "        t=self.fc1(t)\n",
        "        t=F.relu(t)\n",
        "        \n",
        "        \n",
        "        t=self.fc2(t)\n",
        "        t=F.relu(t)\n",
        "        \n",
        "        t=self.out(t)\n",
        "        \n",
        "        \n",
        "        return t"
      ],
      "execution_count": 124,
      "outputs": []
    },
    {
      "cell_type": "code",
      "metadata": {
        "colab": {
          "base_uri": "https://localhost:8080/"
        },
        "id": "gcJOyp8BKWaZ",
        "outputId": "5a6e0cb3-7ee6-4ffa-91ce-b9a195fa7233"
      },
      "source": [
        "dataset = Dataset()\n",
        "model = Network()"
      ],
      "execution_count": 125,
      "outputs": [
        {
          "output_type": "stream",
          "text": [
            "{0: 'Potato___Early_blight', 1: 'Tomato___Early_blight', 2: 'Tomato___Tomato_Yellow_Leaf_Curl_Virus', 3: 'Tomato___Bacterial_spot', 4: 'Potato___Late_blight', 5: 'Tomato___healthy', 6: 'Potato___healthy', 7: 'Tomato___Leaf_Mold', 8: 'Tomato___Target_Spot', 9: 'Tomato___Spider_mites Two-spotted_spider_mite', 10: 'Cherry___Powdery_mildew', 11: 'Tomato___Tomato_mosaic_virus', 12: 'Pepper___Bacterial_spot', 13: 'Pepper___healthy', 14: 'Tomato___Septoria_leaf_spot', 15: 'Cherry___healthy', 16: 'Tomato___Late_blight'}\n"
          ],
          "name": "stdout"
        }
      ]
    },
    {
      "cell_type": "code",
      "metadata": {
        "id": "6SdDIDphMlqK"
      },
      "source": [
        "def get_num_correct(preds,labels):\n",
        "    return preds.argmax(dim=1).eq(labels).sum().item()"
      ],
      "execution_count": 126,
      "outputs": []
    },
    {
      "cell_type": "code",
      "metadata": {
        "id": "uqOK7S92LAoi"
      },
      "source": [
        "def train(dataset, model):\n",
        "    model.train()\n",
        "    dataloader = torch.utils.data.DataLoader(dataset, batch_size=32,shuffle=True)\n",
        "    criterion = nn.CrossEntropyLoss()\n",
        "    optimizer = optim.Adam(model.parameters(), lr=0.001)\n",
        "    num_of_epochs = 5\n",
        "    epochs = []\n",
        "    losses = []\n",
        "    for epoch in range(num_of_epochs):\n",
        "        cnt = 0\n",
        "        tot_loss = 0\n",
        "        tot_correct = 0\n",
        "        for batch, (x, y) in enumerate(dataloader):\n",
        "            # Sets the gradients of all optimized tensors to zero\n",
        "            optimizer.zero_grad()\n",
        "            y_pred = model(x)\n",
        "            # Compute loss (here CrossEntropyLoss)\n",
        "            loss = F.cross_entropy(y_pred,y)\n",
        "\n",
        "            loss.backward()\n",
        "            optimizer.step()\n",
        "\n",
        "            tot_loss+=loss.item()\n",
        "            tot_correct +=get_num_correct(y_pred,y)\n",
        "        epochs.append(epoch)\n",
        "        losses.append(tot_loss)\n",
        "        print(\"Epoch\",epoch,\"total_correct\",tot_correct,\"loss:\",tot_loss)\n",
        "\n",
        "    # Plot a Validation Loss vs Epochs graph \n",
        "    plt.plot(epochs, losses, color='green', linewidth = 3, \n",
        "         marker='o', markerfacecolor='blue', markersize=8) \n",
        "    plt.xlabel('epochs ---->',color='m',fontsize='xx-large' ) \n",
        "    plt.ylabel('loss ------>',color='m',fontsize='xx-large') \n",
        "    axes = plt.gca()        # 'gca' - get current axes\n",
        "    axes.set_facecolor('c') #'c' - cyan\n",
        "    axes.tick_params(axis='y', which='both', colors='tomato')\n",
        "    axes.tick_params(axis='x', which='both', colors='#20ff14')\n",
        "    plt.title(\"Loss vs Epoch\",color='m',fontsize='xx-large')"
      ],
      "execution_count": 133,
      "outputs": []
    },
    {
      "cell_type": "code",
      "metadata": {
        "colab": {
          "base_uri": "https://localhost:8080/",
          "height": 395
        },
        "id": "h282bBs_OFrC",
        "outputId": "fd868f7b-c072-4d9d-c137-caad848597fd"
      },
      "source": [
        "train(dataset, model)"
      ],
      "execution_count": 134,
      "outputs": [
        {
          "output_type": "stream",
          "text": [
            "Epoch 0 total_correct 561 loss: 28.44744712114334\n",
            "Epoch 1 total_correct 705 loss: 14.598645031452179\n",
            "Epoch 2 total_correct 761 loss: 9.376651793718338\n",
            "Epoch 3 total_correct 804 loss: 6.086024634540081\n",
            "Epoch 4 total_correct 820 loss: 4.466137304902077\n"
          ],
          "name": "stdout"
        },
        {
          "output_type": "display_data",
          "data": {
            "image/png": "[encoded data removed]",
            "text/plain": [
              "<Figure size 432x288 with 1 Axes>"
            ]
          },
          "metadata": {
            "tags": [],
            "needs_background": "dark"
          }
        }
      ]
    },
    {
      "cell_type": "code",
      "metadata": {
        "colab": {
          "base_uri": "https://localhost:8080/"
        },
        "id": "NXX0aOg-WzE1",
        "outputId": "b9c20ba3-4103-4123-8fde-dafdea4d51da"
      },
      "source": [
        "main_dir = os.listdir(os.path.join(\"minidataset\",\"train\"))\n",
        "reference = {}\n",
        "for i,dir in enumerate(main_dir):\n",
        "    reference[dir]=i\n",
        "with open('labels.json', 'wb') as iw:\n",
        "    pickle.dump(reference, iw)"
      ],
      "execution_count": 136,
      "outputs": [
        {
          "output_type": "execute_result",
          "data": {
            "text/plain": [
              "{'Cherry___Powdery_mildew': 10,\n",
              " 'Cherry___healthy': 15,\n",
              " 'Pepper___Bacterial_spot': 12,\n",
              " 'Pepper___healthy': 13,\n",
              " 'Potato___Early_blight': 0,\n",
              " 'Potato___Late_blight': 4,\n",
              " 'Potato___healthy': 6,\n",
              " 'Tomato___Bacterial_spot': 3,\n",
              " 'Tomato___Early_blight': 1,\n",
              " 'Tomato___Late_blight': 16,\n",
              " 'Tomato___Leaf_Mold': 7,\n",
              " 'Tomato___Septoria_leaf_spot': 14,\n",
              " 'Tomato___Spider_mites Two-spotted_spider_mite': 9,\n",
              " 'Tomato___Target_Spot': 8,\n",
              " 'Tomato___Tomato_Yellow_Leaf_Curl_Virus': 2,\n",
              " 'Tomato___Tomato_mosaic_virus': 11,\n",
              " 'Tomato___healthy': 5}"
            ]
          },
          "metadata": {
            "tags": []
          },
          "execution_count": 136
        }
      ]
    },
    {
      "cell_type": "code",
      "metadata": {
        "id": "eleHbjJxXgrf"
      },
      "source": [
        "#Save the trained model\n",
        "torch.save(model.state_dict(), \"model001_ep5.pth\")"
      ],
      "execution_count": 137,
      "outputs": []
    },
    {
      "cell_type": "code",
      "metadata": {
        "id": "g5MXP5iAYFiP"
      },
      "source": [
        "def predict(img_path):\n",
        "    image = Image.open(img_path)\n",
        "    image = ToTensor()(image)\n",
        "    resize = transforms.Compose([transforms.Resize((256,256))])\n",
        "    y_result = model(resize(image).unsqueeze(0))\n",
        "    result_idx = y_result.argmax(dim=1)\n",
        "    for key,value in reference.items():\n",
        "        if(value==result_idx):\n",
        "            print(key)\n",
        "            break\n",
        "      \n",
        "\n"
      ],
      "execution_count": 149,
      "outputs": []
    },
    {
      "cell_type": "code",
      "metadata": {
        "colab": {
          "base_uri": "https://localhost:8080/"
        },
        "id": "xRv63JfPatKB",
        "outputId": "86e06b3f-dd45-49a2-cefd-95390f487af4"
      },
      "source": [
        "predict(\"/content/minidataset/valid/Potato___Late_blight/0b2bdc8e-90fd-4bb4-bedb-485502fe8a96___RS_LB 4906.JPG\")"
      ],
      "execution_count": 151,
      "outputs": [
        {
          "output_type": "stream",
          "text": [
            "Potato___healthy\n"
          ],
          "name": "stdout"
        }
      ]
    }
  ]
}